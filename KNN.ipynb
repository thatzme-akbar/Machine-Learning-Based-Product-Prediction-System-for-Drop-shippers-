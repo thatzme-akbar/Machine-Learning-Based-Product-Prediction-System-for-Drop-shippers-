{
 "cells": [
  {
   "cell_type": "code",
   "execution_count": 1,
   "id": "94d89b77",
   "metadata": {},
   "outputs": [],
   "source": [
    "import pandas as pd\n",
    "import numpy as np\n",
    "from sklearn.model_selection import train_test_split\n",
    "from sklearn.svm import SVC\n",
    "from sklearn.metrics import accuracy_score\n",
    "import matplotlib.pyplot as plt\n",
    "import tkinter as tk\n",
    "from tkinter import ttk, messagebox\n",
    "import seaborn as sns\n",
    "from sklearn.metrics import confusion_matrix\n",
    "from sklearn.neighbors import KNeighborsClassifier\n",
    "from sklearn.neighbors import KNeighborsRegressor\n"
   ]
  },
  {
   "cell_type": "code",
   "execution_count": 2,
   "id": "ed03085a",
   "metadata": {},
   "outputs": [],
   "source": [
    "# Read the updated CSV file\n",
    "data = pd.read_csv(\"final_dataset.csv\")  # Replace with your actual CSV file name\n",
    "df = pd.DataFrame(data)"
   ]
  },
  {
   "cell_type": "code",
   "execution_count": 3,
   "id": "e5149aa8",
   "metadata": {},
   "outputs": [],
   "source": [
    "\n",
    "# Map categorical \"Order_Priority\" values to numeric values\n",
    "order_priority_mapping = {\n",
    "    \"High\": 3,\n",
    "    \"Medium\": 2,\n",
    "    \"Low\": 1,\n",
    "    \"Not Specified\": 0,\n",
    "    \"Critical\": 0  # You mentioned mapping \"Critical\" to 0\n",
    "}\n",
    "\n",
    "# Map the \"Order_Priority\" column using the mapping\n",
    "df[\"Order_Priority\"] = df[\"Order_Priority\"].map(order_priority_mapping)"
   ]
  },
  {
   "cell_type": "code",
   "execution_count": 4,
   "id": "891c0b3d",
   "metadata": {},
   "outputs": [],
   "source": [
    "\n",
    "# Define the features (independent variables)\n",
    "X = df[['Sales', 'Order_Quantity', 'Profit', 'Order_Priority']]\n",
    "\n",
    "# Define the target variable (dependent variable)\n",
    "y = df['result']\n",
    "\n",
    "# Split the data into training and testing sets\n",
    "X_train, X_test, y_train, y_test = train_test_split(X, y, test_size=0.2, random_state=42)\n",
    "\n",
    "# Create and fit a k-Nearest Neighbors (KNN) classifier\n",
    "k = 5  # You can adjust the number of neighbors (k) as needed\n",
    "model = KNeighborsClassifier(n_neighbors=k)\n",
    "model.fit(X_train, y_train)\n",
    "\n",
    "# Make predictions on the testing data\n",
    "y_pred = model.predict(X_test)\n",
    "\n"
   ]
  },
  {
   "cell_type": "code",
   "execution_count": 5,
   "id": "f6b9cb09-aa6d-409f-b8c1-cfc706082da0",
   "metadata": {},
   "outputs": [
    {
     "name": "stdout",
     "output_type": "stream",
     "text": [
      "Confusion Matrix:\n",
      "[[100  10]\n",
      " [  2  34]]\n"
     ]
    },
    {
     "data": {
      "image/png": "[encoded data removed]",
      "text/plain": [
       "<Figure size 432x288 with 1 Axes>"
      ]
     },
     "metadata": {
      "needs_background": "light"
     },
     "output_type": "display_data"
    }
   ],
   "source": [
    "#  you have already defined y_test and y_pred\n",
    "# Add a confusion matrix\n",
    "conf_matrix = confusion_matrix(y_test, y_pred)\n",
    "print('Confusion Matrix:')\n",
    "print(conf_matrix)\n",
    "\n",
    "# Create a heatmap for the confusion matrix\n",
    "sns.heatmap(conf_matrix, annot=True, fmt='d', cmap='Blues', cbar=False)\n",
    "plt.xlabel('Predicted')\n",
    "plt.ylabel('True')\n",
    "plt.title('Confusion Matrix')\n",
    "plt.show()"
   ]
  },
  {
   "cell_type": "code",
   "execution_count": 6,
   "id": "6ba06bd0",
   "metadata": {},
   "outputs": [
    {
     "name": "stdout",
     "output_type": "stream",
     "text": [
      "Accuracy: 0.92\n"
     ]
    }
   ],
   "source": [
    "# Calculate accuracy for evaluation\n",
    "accuracy = accuracy_score(y_test, y_pred)\n",
    "\n",
    "print(f'Accuracy: {accuracy:.2f}')"
   ]
  },
  {
   "cell_type": "code",
   "execution_count": null,
   "id": "83f03959",
   "metadata": {},
   "outputs": [],
   "source": [
    "def make_prediction(sales, order_quantity, profit, order_priority):\n",
    "  \n",
    "    new_data = {\n",
    "        'Sales': [sales],\n",
    "        'Order_Quantity': [order_quantity],\n",
    "        'Profit': [profit],\n",
    "        'Order_Priority': [order_priority]\n",
    "    }\n",
    "    new_df = pd.DataFrame(new_data)\n",
    "\n",
    "    # Make a prediction for the new data\n",
    "    predicted_product = model.predict(new_df)\n",
    "\n",
    "    return predicted_product[0]\n",
    "\n",
    "def update_prediction(*args):\n",
    "    try:\n",
    "        sales = float(entry_sales.get())\n",
    "        order_quantity = float(entry_order_quantity.get())\n",
    "        profit = float(entry_profit.get())\n",
    "        order_priority = int(entry_order_priority.get())\n",
    "\n",
    "        result = make_prediction(sales, order_quantity, profit, order_priority)\n",
    "\n",
    "        if result == 1:\n",
    "            label_prediction.config(text=\"Predicted Product: Yes\", foreground=\"green\")\n",
    "        else:\n",
    "            label_prediction.config(text=\"Predicted Product: No\", foreground=\"red\")\n",
    "\n",
    "        label_accuracy.config(text=f'Model Accuracy: {accuracy:.2%}', foreground=\"blue\")\n",
    "    except ValueError:\n",
    "        label_prediction.config(text=\"Invalid input\", foreground=\"red\")\n",
    "        label_accuracy.config(text='', foreground=\"black\")\n",
    "\n",
    "#main window\n",
    "window = tk.Tk()\n",
    "window.title(\"Drop-Shipping Prediction using KNN\")\n",
    "\n",
    "\n",
    "#input fields\n",
    "label_sales = ttk.Label(window, text=\"Sales:\")\n",
    "entry_sales = ttk.Entry(window)\n",
    "entry_sales.bind(\"<KeyRelease>\", update_prediction)\n",
    "\n",
    "label_order_quantity = ttk.Label(window, text=\"Order Quantity:\")\n",
    "entry_order_quantity = ttk.Entry(window)\n",
    "entry_order_quantity.bind(\"<KeyRelease>\", update_prediction)\n",
    "\n",
    "label_profit = ttk.Label(window, text=\"Profit:\")\n",
    "entry_profit = ttk.Entry(window)\n",
    "entry_profit.bind(\"<KeyRelease>\", update_prediction)\n",
    "\n",
    "label_order_priority = ttk.Label(window, text=\"Order Priority:\")\n",
    "entry_order_priority = ttk.Entry(window)\n",
    "entry_order_priority.bind(\"<KeyRelease>\", update_prediction)\n",
    "\n",
    "#labels to display the prediction and accuracy\n",
    "label_prediction = ttk.Label(window, text=\"Prediction will be displayed here\")\n",
    "label_accuracy = ttk.Label(window, text=\"\")\n",
    "\n",
    "# Layout using grid\n",
    "label_sales.grid(row=0, column=0, padx=10, pady=10, sticky=\"w\")\n",
    "entry_sales.grid(row=0, column=1, padx=10, pady=10)\n",
    "\n",
    "label_order_quantity.grid(row=1, column=0, padx=10, pady=10, sticky=\"w\")\n",
    "entry_order_quantity.grid(row=1, column=1, padx=10, pady=10)\n",
    "\n",
    "label_profit.grid(row=2, column=0, padx=10, pady=10, sticky=\"w\")\n",
    "entry_profit.grid(row=2, column=1, padx=10, pady=10)\n",
    "\n",
    "label_order_priority.grid(row=3, column=0, padx=10, pady=10, sticky=\"w\")\n",
    "entry_order_priority.grid(row=3, column=1, padx=10, pady=10)\n",
    "\n",
    "label_prediction.grid(row=4, column=0, columnspan=2, pady=10)\n",
    "label_accuracy.grid(row=5, column=0, columnspan=2, pady=10)\n",
    "\n",
    "\n",
    "window.mainloop()"
   ]
  },
  {
   "cell_type": "code",
   "execution_count": null,
   "id": "b85a9eb0",
   "metadata": {},
   "outputs": [],
   "source": [
    "# Create a new row of data for prediction\n",
    "new_data = {\n",
    "    'Sales': [1500],\n",
    "    'Order_Quantity': [100],\n",
    "    'Profit': [500],\n",
    "    'Order_Priority': [2]  \n",
    "}\n",
    "new_df = pd.DataFrame(new_data)\n",
    "\n",
    "# Make a prediction for the new data\n",
    "predicted_product = model.predict(new_df)\n",
    "\n",
    "if predicted_product[0] == 1:\n",
    "    print('Predicted Product: Yes')\n",
    "else:\n",
    "    print('Predicted Product: No')"
   ]
  },
  {
   "cell_type": "code",
   "execution_count": null,
   "id": "a3b13ef9",
   "metadata": {},
   "outputs": [],
   "source": [
    "import pandas as pd\n",
    "from sklearn.neighbors import KNeighborsClassifier\n",
    "\n",
    "# Load the trained KNN model\n",
    "k = 5  \n",
    "model = KNeighborsClassifier(n_neighbors=k)\n",
    "model.fit(X_train, y_train)  \n",
    "\n",
    "# Read the test dataset\n",
    "test_data = pd.read_csv(\"test.csv\")  \n",
    "test_df = pd.DataFrame(test_data)\n",
    "\n",
    "# Map categorical \"Order_Priority\" values to numeric values\n",
    "test_df[\"Order_Priority\"] = test_df[\"Order_Priority\"].map(order_priority_mapping)\n",
    "\n",
    "# features (independent variables) for the test dataset\n",
    "X_test = test_df[['Sales', 'Order_Quantity', 'Profit', 'Order_Priority']]\n",
    "\n",
    "# predictions on the test dataset\n",
    "test_predictions = model.predict(X_test)\n",
    "\n",
    "# Map binary predictions to \"Yes\" or \"No\"\n",
    "test_predictions = [\"Yes\" if pred == 1 else \"No\" for pred in test_predictions]\n",
    "\n",
    "# Add the \"Result\" column to the test dataset\n",
    "test_df[\"Result\"] = test_predictions\n",
    "\n",
    "# updated test dataset with the \"Result\" column\n",
    "test_df.to_csv(\"test_with_results_knn.csv\")  # Replace with the desired output file name\n"
   ]
  },
  {
   "cell_type": "code",
   "execution_count": null,
   "id": "f9fb336a",
   "metadata": {},
   "outputs": [],
   "source": []
  }
 ],
 "metadata": {
  "kernelspec": {
   "display_name": "Python 3 (ipykernel)",
   "language": "python",
   "name": "python3"
  },
  "language_info": {
   "codemirror_mode": {
    "name": "ipython",
    "version": 3
   },
   "file_extension": ".py",
   "mimetype": "text/x-python",
   "name": "python",
   "nbconvert_exporter": "python",
   "pygments_lexer": "ipython3",
   "version": "3.9.12"
  }
 },
 "nbformat": 4,
 "nbformat_minor": 5
}
