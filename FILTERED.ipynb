{
 "cells": [
  {
   "cell_type": "code",
   "execution_count": 1,
   "id": "f239d312",
   "metadata": {},
   "outputs": [
    {
     "name": "stdout",
     "output_type": "stream",
     "text": [
      "Enter region:\n",
      "Sorry, this area is not present.\n"
     ]
    }
   ],
   "source": [
    "import pandas as pd\n",
    "df = pd.read_csv('final_dataset.csv')\n",
    "\n",
    "region =  input(\"Enter region:\")\n",
    "if region == \"Northwest Territories\":\n",
    "    filtered_df = df[df['Region'] == 'Northwest Territories']\n",
    "elif region ==  \"Atlantic\":\n",
    "    filtered_df = df[df['Region'] == 'Atlantic']\n",
    "elif region ==  \"West\":\n",
    "    filtered_df = df[df['Region'] == 'West']\n",
    "elif region ==  \"Nunavut\":\n",
    "    filtered_df = df[df['Region'] == 'Nunavut']\n",
    "elif region ==  \"Prarie\":\n",
    "    filtered_df = df[df['Region'] == 'Prarie']\n",
    "elif region ==  \"Ontario\":\n",
    "    filtered_df = df[df['Region'] == 'Ontario']\n",
    "else:\n",
    "    print(\"Sorry, this area is not present.\")"
   ]
  },
  {
   "cell_type": "code",
   "execution_count": 2,
   "id": "93cde2b7",
   "metadata": {},
   "outputs": [
    {
     "ename": "NameError",
     "evalue": "name 'filtered_df' is not defined",
     "output_type": "error",
     "traceback": [
      "\u001b[1;31m---------------------------------------------------------------------------\u001b[0m",
      "\u001b[1;31mNameError\u001b[0m                                 Traceback (most recent call last)",
      "Input \u001b[1;32mIn [2]\u001b[0m, in \u001b[0;36m<cell line: 1>\u001b[1;34m()\u001b[0m\n\u001b[1;32m----> 1\u001b[0m \u001b[43mfiltered_df\u001b[49m\u001b[38;5;241m.\u001b[39mto_csv(\u001b[38;5;124m'\u001b[39m\u001b[38;5;124mfiltered_data.csv\u001b[39m\u001b[38;5;124m'\u001b[39m, index\u001b[38;5;241m=\u001b[39m\u001b[38;5;28;01mFalse\u001b[39;00m)\n",
      "\u001b[1;31mNameError\u001b[0m: name 'filtered_df' is not defined"
     ]
    }
   ],
   "source": [
    "filtered_df.to_csv('filtered_data.csv', index=False)\n"
   ]
  },
  {
   "cell_type": "code",
   "execution_count": null,
   "id": "74aef7ad",
   "metadata": {},
   "outputs": [],
   "source": []
  }
 ],
 "metadata": {
  "kernelspec": {
   "display_name": "Python 3 (ipykernel)",
   "language": "python",
   "name": "python3"
  },
  "language_info": {
   "codemirror_mode": {
    "name": "ipython",
    "version": 3
   },
   "file_extension": ".py",
   "mimetype": "text/x-python",
   "name": "python",
   "nbconvert_exporter": "python",
   "pygments_lexer": "ipython3",
   "version": "3.9.12"
  }
 },
 "nbformat": 4,
 "nbformat_minor": 5
}
